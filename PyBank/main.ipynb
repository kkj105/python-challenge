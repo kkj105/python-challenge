{
 "cells": [
  {
   "cell_type": "code",
   "execution_count": 3,
   "metadata": {},
   "outputs": [],
   "source": [
    "# Modules\n",
    "import csv\n",
    "import os\n",
    "\n",
    "\n",
    "# Set path for file\n",
    "csvpath = os.path.join(\"Resources\", \"budget_data.csv\")"
   ]
  },
  {
   "cell_type": "code",
   "execution_count": 4,
   "metadata": {},
   "outputs": [],
   "source": [
    "num_months=0\n",
    "total_months=0\n",
    "total_revenue=0\n",
    "revenue=[]\n",
    "changes=[]\n",
    "month=[]\n",
    "\n",
    "# Open the CSV\n",
    "with open(csvpath) as csvfile:\n",
    "    \n",
    "    csvreader = csv.reader(csvfile, delimiter=\",\")\n",
    "    \n",
    "    # Skip the header row\n",
    "    header = next(csvreader)\n",
    "    \n",
    "    #Skip the first row\n",
    "    firstrow = next(csvreader)\n",
    "    \n",
    "    total_months+=1\n",
    "    total_revenue=total_revenue+int(firstrow[1])\n",
    "   \n",
    "    previous_revenue=int(firstrow[1])\n",
    "    \n",
    "\n",
    "    # Loop through data\n",
    "    for row in csvreader:\n",
    "        total_months=total_months+1\n",
    "        total_revenue+=int(row[1])\n",
    "        \n",
    "        revenue.append(float(row[1]))\n",
    "        month.append(row[0])\n",
    "        "
   ]
  },
  {
   "cell_type": "code",
   "execution_count": 5,
   "metadata": {},
   "outputs": [],
   "source": [
    "for x in range(len(revenue)):\n",
    "    #calculate the average of the difference between all rows in profit/loss column\n",
    "    changes.append(revenue[x]-previous_revenue)\n",
    "    previous_revenue = revenue[x]\n",
    "average_change=sum(changes)/(total_months)\n",
    "\n",
    "#calculate greatest increase in profit/loss column + date associated with it\n",
    "greatest_increase=max(changes)\n",
    "greatest_increase_date=str(month[changes.index(max(changes))])\n",
    "\n",
    "#calculate greatest decrease in profit/loss column + date associated with it\n",
    "greatest_decrease=min(changes)\n",
    "greatest_decrease_date=str(month[changes.index(min(changes))])"
   ]
  },
  {
   "cell_type": "code",
   "execution_count": 6,
   "metadata": {},
   "outputs": [
    {
     "name": "stdout",
     "output_type": "stream",
     "text": [
      "Financial Analysis\n",
      "----------------------\n",
      "Total Months: 86\n",
      "Total: $38382578\n",
      "Average Change: $-2288\n",
      "Greatest Increase: Feb-12 $1926159\n",
      "Greatest Decrease: Sep-13 $-2196167\n"
     ]
    }
   ],
   "source": [
    "print(f\"Financial Analysis\")\n",
    "print(\"----------------------\")\n",
    "print(f\"Total Months: {int(total_months)}\")\n",
    "print(f\"Total: ${str(total_revenue)}\")\n",
    "print(f\"Average Change: ${int(average_change)}\")\n",
    "print(f\"Greatest Increase: {str(greatest_increase_date)} ${(int(greatest_increase))}\")\n",
    "print(f\"Greatest Decrease: {str(greatest_decrease_date)} ${(int(greatest_decrease))}\")"
   ]
  },
  {
   "cell_type": "code",
   "execution_count": 7,
   "metadata": {},
   "outputs": [],
   "source": [
    "with open(\"PyBankResults.txt\", \"a\") as csvfile:\n",
    "    print(f\"Financial Analysis\", file=csvfile)\n",
    "    print(\"----------------------\", file=csvfile)\n",
    "    print(f\"Total Months: {int(total_months)}\", file=csvfile)\n",
    "    print(f\"Total: ${str(total_revenue)}\",file=csvfile)\n",
    "    print(f\"Average Change: ${int(average_change)}\",file=csvfile)\n",
    "    print(f\"Greatest Increase: {str(greatest_increase_date)} ${(int(greatest_increase))}\",file=csvfile)\n",
    "    print(f\"Greatest Decrease: {str(greatest_decrease_date)} ${(int(greatest_decrease))}\",file=csvfile)"
   ]
  },
  {
   "cell_type": "code",
   "execution_count": null,
   "metadata": {},
   "outputs": [],
   "source": []
  }
 ],
 "metadata": {
  "kernelspec": {
   "display_name": "Python 3",
   "language": "python",
   "name": "python3"
  },
  "language_info": {
   "codemirror_mode": {
    "name": "ipython",
    "version": 3
   },
   "file_extension": ".py",
   "mimetype": "text/x-python",
   "name": "python",
   "nbconvert_exporter": "python",
   "pygments_lexer": "ipython3",
   "version": "3.7.6"
  }
 },
 "nbformat": 4,
 "nbformat_minor": 4
}
