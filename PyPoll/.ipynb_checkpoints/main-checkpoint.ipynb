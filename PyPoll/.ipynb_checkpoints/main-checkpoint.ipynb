{
 "cells": [
  {
   "cell_type": "code",
   "execution_count": 5,
   "metadata": {},
   "outputs": [],
   "source": [
    "import csv\n",
    "import os\n",
    "\n",
    "# Set path for file\n",
    "csvpath=os.path.join(\"Resources\", \"election_data.csv\")"
   ]
  },
  {
   "cell_type": "code",
   "execution_count": 6,
   "metadata": {},
   "outputs": [],
   "source": [
    "#Begin counting number of votes at 0. Create empty dictionary to store unique candidates' information\n",
    "totalvotes=0\n",
    "candidates={}\n",
    "    \n",
    "# Open the CSV\n",
    "with open(csvpath, 'r') as csvfile:\n",
    "    \n",
    "    csvreader = csv.reader(csvfile, delimiter=\",\")\n",
    "    \n",
    "    # Skip the header row\n",
    "    header = next(csvreader)\n",
    "\n",
    "    #Calculate the overall total number of votes\n",
    "    for row in csvreader:\n",
    "        totalvotes+=1\n",
    "        \n",
    "        #Find unique candidate names and tally their number of votes\n",
    "        if row[2] in candidates:\n",
    "            candidates[row[2]]=candidates[row[2]]+1\n",
    "        else:\n",
    "            candidates[row[2]]=1\n",
    "            "
   ]
  },
  {
   "cell_type": "code",
   "execution_count": 7,
   "metadata": {},
   "outputs": [
    {
     "name": "stdout",
     "output_type": "stream",
     "text": [
      "Election Results\n",
      "----------------------\n",
      "Total Votes: 3521001\n",
      "----------------------\n",
      "Khan: 63.000% (2218231)\n",
      "Correy: 20.000% (704200)\n",
      "Li: 14.000% (492940)\n",
      "O'Tooley: 3.000% (105630)\n",
      "----------------------\n",
      "Winner: Khan\n",
      "----------------------\n"
     ]
    }
   ],
   "source": [
    "mostvotes=0\n",
    "mostname=0\n",
    "\n",
    "print(f\"Election Results\")\n",
    "print(\"----------------------\")\n",
    "print(f\"Total Votes: {int(totalvotes)}\")\n",
    "print(\"----------------------\")\n",
    "#Calculate the percentage of votes each candidate won\n",
    "for name in candidates:\n",
    "    percentagevote=candidates[name]/totalvotes\n",
    "    \n",
    "    print(f\"{name}: {percentagevote:.3%} ({candidates[name]})\")\n",
    "   \n",
    "    #Calculate the winner based on the number of votes they won\n",
    "    if mostvotes < candidates[name]:\n",
    "        mostvotes=candidates[name]\n",
    "        mostname=name\n",
    "    \n",
    "    \n",
    "print(\"----------------------\")\n",
    "print(f\"Winner: {mostname}\")\n",
    "print(\"----------------------\")"
   ]
  },
  {
   "cell_type": "code",
   "execution_count": 8,
   "metadata": {},
   "outputs": [],
   "source": [
    "with open(\"PyPollResults.txt\", \"a\") as csvfile:\n",
    "    print(f\"Election Results\", file=csvfile)\n",
    "    print(\"----------------------\", file=csvfile)\n",
    "    print(f\"Total Votes: {int(totalvotes)}\", file=csvfile)\n",
    "    print(\"----------------------\", file=csvfile)\n",
    "    \n",
    "    for name in candidates:\n",
    "        percentagevote=candidates[name]/totalvotes\n",
    "\n",
    "        print(f\"{name}: {percentagevote:.3%} ({candidates[name]})\", file=csvfile)\n",
    "\n",
    "        \n",
    "        if mostvotes < candidates[name]:\n",
    "            mostvotes=candidates[name]\n",
    "            mostname=name\n",
    "    print(\"----------------------\", file=csvfile)\n",
    "    print(f\"Winner: {mostname}\", file=csvfile)\n",
    "    print(\"----------------------\", file=csvfile)"
   ]
  },
  {
   "cell_type": "code",
   "execution_count": null,
   "metadata": {},
   "outputs": [],
   "source": []
  }
 ],
 "metadata": {
  "kernelspec": {
   "display_name": "Python 3",
   "language": "python",
   "name": "python3"
  },
  "language_info": {
   "codemirror_mode": {
    "name": "ipython",
    "version": 3
   },
   "file_extension": ".py",
   "mimetype": "text/x-python",
   "name": "python",
   "nbconvert_exporter": "python",
   "pygments_lexer": "ipython3",
   "version": "3.7.6"
  }
 },
 "nbformat": 4,
 "nbformat_minor": 4
}
