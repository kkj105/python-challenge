{
 "cells": [
  {
   "cell_type": "code",
   "execution_count": 5,
   "metadata": {},
   "outputs": [],
   "source": [
    "import csv\n",
    "import os\n",
    "from collections import defaultdict\n",
    "\n",
    "# Set path for file\n",
    "csvpath=os.path.join(\"Resources\", \"election_data.csv\")"
   ]
  },
  {
   "cell_type": "code",
   "execution_count": 6,
   "metadata": {},
   "outputs": [
    {
     "ename": "NameError",
     "evalue": "name 'name' is not defined",
     "output_type": "error",
     "traceback": [
      "\u001b[0;31m---------------------------------------------------------------------------\u001b[0m",
      "\u001b[0;31mNameError\u001b[0m                                 Traceback (most recent call last)",
      "\u001b[0;32m<ipython-input-6-9dec0bd132a1>\u001b[0m in \u001b[0;36m<module>\u001b[0;34m\u001b[0m\n\u001b[1;32m     50\u001b[0m \u001b[0;34m\u001b[0m\u001b[0m\n\u001b[1;32m     51\u001b[0m \u001b[0;31m#     for name in votingdata:\u001b[0m\u001b[0;34m\u001b[0m\u001b[0;34m\u001b[0m\u001b[0;34m\u001b[0m\u001b[0m\n\u001b[0;32m---> 52\u001b[0;31m     \u001b[0;32mif\u001b[0m \u001b[0mname\u001b[0m \u001b[0;32mnot\u001b[0m \u001b[0;32min\u001b[0m \u001b[0mcandidatenames\u001b[0m\u001b[0;34m:\u001b[0m\u001b[0;34m\u001b[0m\u001b[0;34m\u001b[0m\u001b[0m\n\u001b[0m\u001b[1;32m     53\u001b[0m         \u001b[0mcandidatenames\u001b[0m\u001b[0;34m.\u001b[0m\u001b[0mappend\u001b[0m\u001b[0;34m(\u001b[0m\u001b[0mname\u001b[0m\u001b[0;34m)\u001b[0m\u001b[0;34m\u001b[0m\u001b[0;34m\u001b[0m\u001b[0m\n\u001b[1;32m     54\u001b[0m \u001b[0;31m#     for name in candidatenames:\u001b[0m\u001b[0;34m\u001b[0m\u001b[0;34m\u001b[0m\u001b[0;34m\u001b[0m\u001b[0m\n",
      "\u001b[0;31mNameError\u001b[0m: name 'name' is not defined"
     ]
    }
   ],
   "source": [
    "totalvotes=0\n",
    "# candidates={\"candidate_a\": {},\n",
    "#             \"candidate_b\": {},\n",
    "#             \"candidate_c\": {},\n",
    "#             \"candidate_d\": {}\n",
    "# }\n",
    "candidates={}\n",
    "candidatenames=set()\n",
    "\n",
    "\n",
    "    \n",
    "# Open the CSV\n",
    "with open(csvpath, 'r') as csvfile:\n",
    "    \n",
    "    csvreader = csv.reader(csvfile, delimiter=\",\")\n",
    "    \n",
    "    # Skip the header row\n",
    "    header = next(csvfile)\n",
    "\n",
    "    \n",
    "    #Calculate the total number of votes\n",
    "    for row in csv.reader(csvfile):\n",
    "        totalvotes+=1\n",
    "    #print(totalvotes)\n",
    "        candidatenames=row[2]\n",
    "        \n",
    "    #Find unique candidate names\n",
    "#         candidatenames.add(row[2])\n",
    "#     print(candidatenames)\n",
    "    \n",
    "#     if row[2]==\"Li\":\n",
    "#         candidates[\"candidate_a\"]=\"name\"\n",
    "#         break\n",
    "#     elif: \n",
    "#         row[2]==\"Khan\":\n",
    "#         candidates[\"candidate_b\"]=\"name\"\n",
    "#         break\n",
    "#     elif: \n",
    "#         row[2]==\"O'Tooley\":\n",
    "#         candidates[\"candidate_c\"]=\"name\"\n",
    "#         break\n",
    "#     else:\n",
    "#         row[2]==\"Correy\":\n",
    "#         candidates[\"candidate_d\"]=\"name\"\n",
    "#         break\n",
    "        \n",
    "    for name in votingdata:\n",
    "    if name not in candidatenames:\n",
    "        candidatenames.append(name)\n",
    "#     for name in candidatenames:\n",
    "#         print(name)\n",
    "\n",
    "    \n",
    "        \n",
    "    #Calculate the percentage of votes each candidate won\n",
    "    \n",
    "    #Calculate the total number of votes each candidate won\n",
    "    \n",
    "    #Print the winner of the election based on the popular vote\n",
    "    \n",
    "\n",
    "\n"
   ]
  },
  {
   "cell_type": "code",
   "execution_count": 3,
   "metadata": {},
   "outputs": [],
   "source": [
    "# #Define the function with 'election_data' as its parameter\n",
    "# def poll_results(election_results):\n",
    "    \n",
    "#     #assign values to variables\n",
    "#     voter=int(election_results[0])\n",
    "#     voter_county=str(election_results[1])\n",
    "#     candidate=str(election_results[2])\n",
    "    \n",
    "#     #Find the total number of votes\n",
    "#     totalvotes="
   ]
  },
  {
   "cell_type": "code",
   "execution_count": 4,
   "metadata": {},
   "outputs": [
    {
     "name": "stdout",
     "output_type": "stream",
     "text": [
      "Election Results\n",
      "----------------------\n"
     ]
    },
    {
     "ename": "NameError",
     "evalue": "name 'totalvotes' is not defined",
     "output_type": "error",
     "traceback": [
      "\u001b[0;31m---------------------------------------------------------------------------\u001b[0m",
      "\u001b[0;31mNameError\u001b[0m                                 Traceback (most recent call last)",
      "\u001b[0;32m<ipython-input-4-181fb88bd203>\u001b[0m in \u001b[0;36m<module>\u001b[0;34m\u001b[0m\n\u001b[1;32m      1\u001b[0m \u001b[0mprint\u001b[0m\u001b[0;34m(\u001b[0m\u001b[0;34mf\"Election Results\"\u001b[0m\u001b[0;34m)\u001b[0m\u001b[0;34m\u001b[0m\u001b[0;34m\u001b[0m\u001b[0m\n\u001b[1;32m      2\u001b[0m \u001b[0mprint\u001b[0m\u001b[0;34m(\u001b[0m\u001b[0;34m\"----------------------\"\u001b[0m\u001b[0;34m)\u001b[0m\u001b[0;34m\u001b[0m\u001b[0;34m\u001b[0m\u001b[0m\n\u001b[0;32m----> 3\u001b[0;31m \u001b[0mprint\u001b[0m\u001b[0;34m(\u001b[0m\u001b[0;34mf\"Total Votes: {int(totalvotes)}\"\u001b[0m\u001b[0;34m)\u001b[0m\u001b[0;34m\u001b[0m\u001b[0;34m\u001b[0m\u001b[0m\n\u001b[0m\u001b[1;32m      4\u001b[0m \u001b[0mprint\u001b[0m\u001b[0;34m(\u001b[0m\u001b[0;34m\"----------------------\"\u001b[0m\u001b[0;34m)\u001b[0m\u001b[0;34m\u001b[0m\u001b[0;34m\u001b[0m\u001b[0m\n\u001b[1;32m      5\u001b[0m \u001b[0;31m#print(f{candidate name} {% of vote} {total votes})\u001b[0m\u001b[0;34m\u001b[0m\u001b[0;34m\u001b[0m\u001b[0;34m\u001b[0m\u001b[0m\n",
      "\u001b[0;31mNameError\u001b[0m: name 'totalvotes' is not defined"
     ]
    }
   ],
   "source": [
    "print(f\"Election Results\")\n",
    "print(\"----------------------\")\n",
    "print(f\"Total Votes: {int(totalvotes)}\")\n",
    "print(\"----------------------\")\n",
    "#print(f{candidate name} {% of vote} {total votes})\n",
    "print(\"----------------------\")\n",
    "#print(f\"Winner: ${int(average_change)}\")\n",
    "print(\"----------------------\")"
   ]
  },
  {
   "cell_type": "code",
   "execution_count": null,
   "metadata": {},
   "outputs": [],
   "source": []
  }
 ],
 "metadata": {
  "kernelspec": {
   "display_name": "Python 3",
   "language": "python",
   "name": "python3"
  },
  "language_info": {
   "codemirror_mode": {
    "name": "ipython",
    "version": 3
   },
   "file_extension": ".py",
   "mimetype": "text/x-python",
   "name": "python",
   "nbconvert_exporter": "python",
   "pygments_lexer": "ipython3",
   "version": "3.7.6"
  }
 },
 "nbformat": 4,
 "nbformat_minor": 4
}
